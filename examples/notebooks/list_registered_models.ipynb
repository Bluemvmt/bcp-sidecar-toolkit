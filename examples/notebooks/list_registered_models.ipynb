{
 "cells": [
  {
   "cell_type": "code",
   "execution_count": null,
   "id": "8a378e22-484b-4549-aed7-f1430467aa2b",
   "metadata": {},
   "outputs": [],
   "source": [
    "import mlflow\n",
    "from mlflow.tracking import MlflowClient\n",
    "\n",
    "mlflow.set_tracking_uri(uri=\"http://127.0.0.1:5000\")\n",
    "\n",
    "client = MlflowClient()\n",
    "registered_models = client.search_registered_models()  # Correct method\n",
    "\n",
    "# Print registered models\n",
    "for model in registered_models:\n",
    "    print()\n",
    "    print(f\"Model Name: {model.name}, Versions: {model.latest_versions}\")"
   ]
  },
  {
   "cell_type": "code",
   "execution_count": null,
   "id": "0355618e-9fea-4e77-a5f3-b6e6ae379269",
   "metadata": {},
   "outputs": [],
   "source": []
  }
 ],
 "metadata": {
  "kernelspec": {
   "display_name": "Python 3 (ipykernel)",
   "language": "python",
   "name": "python3"
  },
  "language_info": {
   "codemirror_mode": {
    "name": "ipython",
    "version": 3
   },
   "file_extension": ".py",
   "mimetype": "text/x-python",
   "name": "python",
   "nbconvert_exporter": "python",
   "pygments_lexer": "ipython3",
   "version": "3.12.10"
  }
 },
 "nbformat": 4,
 "nbformat_minor": 5
}
