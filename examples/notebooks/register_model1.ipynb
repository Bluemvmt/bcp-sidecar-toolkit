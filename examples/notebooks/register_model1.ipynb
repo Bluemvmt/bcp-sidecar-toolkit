{
 "cells": [
  {
   "cell_type": "code",
   "execution_count": null,
   "id": "fb63f27e-2538-43df-88b9-4d91f94622d3",
   "metadata": {},
   "outputs": [],
   "source": [
    "import mlflow\n",
    "import mlflow.sklearn\n",
    "from sklearn.ensemble import RandomForestClassifier\n",
    "from sklearn.datasets import make_classification\n",
    "\n",
    "mlflow.set_tracking_uri(uri=\"http://127.0.0.1:5000\")\n",
    "\n",
    "# Generate sample data\n",
    "X, y = make_classification(n_samples=1000, n_features=4, random_state=42)\n",
    "\n",
    "# Start an MLflow run\n",
    "with mlflow.start_run(run_name=\"RandomForest_Experiment\"):\n",
    "    # Train model\n",
    "    model = RandomForestClassifier(n_estimators=100, random_state=42)\n",
    "    model.fit(X, y)\n",
    "    # Log parameters and metrics\n",
    "    mlflow.log_param(\"n_estimators\", 100)\n",
    "    mlflow.log_metric(\"accuracy\", model.score(X, y))\n",
    "    \n",
    "    # Log the model\n",
    "    mlflow.sklearn.log_model(model, \"model\")\n",
    "    \n",
    "    # Get run ID\n",
    "    run_id = mlflow.active_run().info.run_id\n",
    "\n",
    "# Register the model\n",
    "model_uri = f\"runs:/{run_id}/model\"\n",
    "mlflow.register_model(model_uri, \"RandomForestModeltest1\")"
   ]
  },
  {
   "cell_type": "code",
   "execution_count": null,
   "id": "2a52b805-b2d7-4738-bb1d-98d9e6927793",
   "metadata": {},
   "outputs": [],
   "source": []
  }
 ],
 "metadata": {
  "kernelspec": {
   "display_name": "Python 3 (ipykernel)",
   "language": "python",
   "name": "python3"
  },
  "language_info": {
   "codemirror_mode": {
    "name": "ipython",
    "version": 3
   },
   "file_extension": ".py",
   "mimetype": "text/x-python",
   "name": "python",
   "nbconvert_exporter": "python",
   "pygments_lexer": "ipython3",
   "version": "3.12.10"
  }
 },
 "nbformat": 4,
 "nbformat_minor": 5
}
